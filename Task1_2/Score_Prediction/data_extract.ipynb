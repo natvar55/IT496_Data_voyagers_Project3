{
 "cells": [
  {
   "cell_type": "code",
   "execution_count": 1,
   "metadata": {},
   "outputs": [],
   "source": [
    "import numpy as np\n",
    "import pandas as pd\n",
    "from yaml import safe_load\n",
    "import os\n",
    "from tqdm import tqdm"
   ]
  },
  {
   "cell_type": "code",
   "execution_count": 2,
   "metadata": {},
   "outputs": [],
   "source": [
    "files = []\n",
    "for file in os.listdir('odi'):\n",
    "    files.append(os.path.join('odi',file))"
   ]
  },
  {
   "cell_type": "code",
   "execution_count": 3,
   "metadata": {},
   "outputs": [
    {
     "name": "stderr",
     "output_type": "stream",
     "text": [
      "100%|█████████▉| 2822/2823 [23:16<00:00,  2.02it/s]\n"
     ]
    },
    {
     "ename": "NotImplementedError",
     "evalue": "",
     "output_type": "error",
     "traceback": [
      "\u001b[1;31m---------------------------------------------------------------------------\u001b[0m",
      "\u001b[1;31mNotImplementedError\u001b[0m                       Traceback (most recent call last)",
      "\u001b[1;32md:\\VS\\DataMining_CP3\\data_extract2.ipynb Cell 3\u001b[0m line \u001b[0;36m5\n\u001b[0;32m      <a href='vscode-notebook-cell:/d%3A/VS/DataMining_CP3/data_extract2.ipynb#W2sZmlsZQ%3D%3D?line=2'>3</a>\u001b[0m \u001b[39mfor\u001b[39;00m file \u001b[39min\u001b[39;00m tqdm(files):\n\u001b[0;32m      <a href='vscode-notebook-cell:/d%3A/VS/DataMining_CP3/data_extract2.ipynb#W2sZmlsZQ%3D%3D?line=3'>4</a>\u001b[0m     \u001b[39mwith\u001b[39;00m \u001b[39mopen\u001b[39m(file,\u001b[39m'\u001b[39m\u001b[39mr\u001b[39m\u001b[39m'\u001b[39m) \u001b[39mas\u001b[39;00m f:\n\u001b[1;32m----> <a href='vscode-notebook-cell:/d%3A/VS/DataMining_CP3/data_extract2.ipynb#W2sZmlsZQ%3D%3D?line=4'>5</a>\u001b[0m         df \u001b[39m=\u001b[39m pd\u001b[39m.\u001b[39;49mjson_normalize(safe_load(f))\n\u001b[0;32m      <a href='vscode-notebook-cell:/d%3A/VS/DataMining_CP3/data_extract2.ipynb#W2sZmlsZQ%3D%3D?line=5'>6</a>\u001b[0m         df[\u001b[39m'\u001b[39m\u001b[39mmatch_id\u001b[39m\u001b[39m'\u001b[39m] \u001b[39m=\u001b[39m cnt\n\u001b[0;32m      <a href='vscode-notebook-cell:/d%3A/VS/DataMining_CP3/data_extract2.ipynb#W2sZmlsZQ%3D%3D?line=6'>7</a>\u001b[0m         main_df \u001b[39m=\u001b[39m pd\u001b[39m.\u001b[39mconcat([df,main_df],ignore_index\u001b[39m=\u001b[39m\u001b[39mTrue\u001b[39;00m)\n",
      "File \u001b[1;32mc:\\Users\\dhair\\AppData\\Local\\Programs\\Python\\Python312\\Lib\\site-packages\\pandas\\io\\json\\_normalize.py:445\u001b[0m, in \u001b[0;36mjson_normalize\u001b[1;34m(data, record_path, meta, meta_prefix, record_prefix, errors, sep, max_level)\u001b[0m\n\u001b[0;32m    443\u001b[0m     data \u001b[39m=\u001b[39m \u001b[39mlist\u001b[39m(data)\n\u001b[0;32m    444\u001b[0m \u001b[39melse\u001b[39;00m:\n\u001b[1;32m--> 445\u001b[0m     \u001b[39mraise\u001b[39;00m \u001b[39mNotImplementedError\u001b[39;00m\n\u001b[0;32m    447\u001b[0m \u001b[39m# check to see if a simple recursive function is possible to\u001b[39;00m\n\u001b[0;32m    448\u001b[0m \u001b[39m# improve performance (see #15621) but only for cases such\u001b[39;00m\n\u001b[0;32m    449\u001b[0m \u001b[39m# as pd.Dataframe(data) or pd.Dataframe(data, sep)\u001b[39;00m\n\u001b[0;32m    450\u001b[0m \u001b[39mif\u001b[39;00m (\n\u001b[0;32m    451\u001b[0m     record_path \u001b[39mis\u001b[39;00m \u001b[39mNone\u001b[39;00m\n\u001b[0;32m    452\u001b[0m     \u001b[39mand\u001b[39;00m meta \u001b[39mis\u001b[39;00m \u001b[39mNone\u001b[39;00m\n\u001b[1;32m   (...)\u001b[0m\n\u001b[0;32m    455\u001b[0m     \u001b[39mand\u001b[39;00m max_level \u001b[39mis\u001b[39;00m \u001b[39mNone\u001b[39;00m\n\u001b[0;32m    456\u001b[0m ):\n",
      "\u001b[1;31mNotImplementedError\u001b[0m: "
     ]
    }
   ],
   "source": [
    "main_df = pd.DataFrame()\n",
    "cnt = 1\n",
    "for file in tqdm(files):\n",
    "    with open(file,'r') as f:\n",
    "        df = pd.json_normalize(safe_load(f))\n",
    "        df['match_id'] = cnt\n",
    "        main_df = pd.concat([df,main_df],ignore_index=True)\n",
    "        cnt+=1"
   ]
  },
  {
   "cell_type": "code",
   "execution_count": 6,
   "metadata": {},
   "outputs": [
    {
     "data": {
      "text/plain": [
       "Index(['innings', 'meta.data_version', 'meta.created', 'meta.revision',\n",
       "       'info.balls_per_over', 'info.city', 'info.dates', 'info.gender',\n",
       "       'info.match_type', 'info.outcome.by.wickets',\n",
       "       ...\n",
       "       'info.registry.people.TS Roland-Jones',\n",
       "       'info.registry.people.IA Thomson', 'info.registry.people.Z Nizami',\n",
       "       'info.registry.people.K Christie', 'info.registry.people.SD Heazlett',\n",
       "       'info.registry.people.Tanbir Hayder',\n",
       "       'info.registry.people.Subashis Roy', 'info.registry.people.FY Fazal',\n",
       "       'info.registry.people.KK Nair', 'info.registry.people.RAJ Smith'],\n",
       "      dtype='object', length=2935)"
      ]
     },
     "execution_count": 6,
     "metadata": {},
     "output_type": "execute_result"
    }
   ],
   "source": [
    "main_df.columns"
   ]
  },
  {
   "cell_type": "code",
   "execution_count": 7,
   "metadata": {},
   "outputs": [],
   "source": [
    "main_df.drop(columns=[\n",
    "    'meta.data_version',\n",
    "    'meta.created',\n",
    "    'meta.revision',\n",
    "    'info.toss.decision',\n",
    "    'info.umpires',\n",
    "    'info.supersubs.South Africa',\n",
    "    'info.supersubs.West Indies',\n",
    "    'info.supersubs.New Zealand',\n",
    "    'info.outcome.eliminator',\n",
    "    'info.outcome.result',\n",
    "    'info.outcome.method',\n",
    "    'info.neutral_venue',\n",
    "    'info.match_type_number',\n",
    "    'info.outcome.by.runs',\n",
    "    'info.outcome.by.wickets',\n",
    "    'info.supersubs.Bangladesh', \n",
    "    'info.supersubs.Pakistan',\n",
    "    'info.supersubs.Sri Lanka', \n",
    "    'info.supersubs.India',\n",
    "    'info.supersubs.Australia', \n",
    "    'info.supersubs.South Africa',\n",
    "    'info.supersubs.England', \n",
    "    'info.supersubs.ICC World XI',\n",
    "    'info.supersubs.Zimbabwe', \n",
    "    'info.supersubs.Africa XI',\n",
    "    'info.supersubs.Asia XI', \n",
    "    'info.outcome.eliminator',\n",
    "],inplace=True)"
   ]
  },
  {
   "cell_type": "code",
   "execution_count": 8,
   "metadata": {},
   "outputs": [
    {
     "data": {
      "text/plain": [
       "info.gender\n",
       "male      2422\n",
       "female     400\n",
       "Name: count, dtype: int64"
      ]
     },
     "execution_count": 8,
     "metadata": {},
     "output_type": "execute_result"
    }
   ],
   "source": [
    "main_df['info.gender'].value_counts()"
   ]
  },
  {
   "cell_type": "code",
   "execution_count": 9,
   "metadata": {},
   "outputs": [],
   "source": [
    "main_df = main_df[main_df['info.gender'] == 'male']\n",
    "main_df.drop(columns=['info.gender'],inplace=True)"
   ]
  },
  {
   "cell_type": "code",
   "execution_count": 10,
   "metadata": {},
   "outputs": [
    {
     "data": {
      "text/plain": [
       "info.match_type\n",
       "ODI    2422\n",
       "Name: count, dtype: int64"
      ]
     },
     "execution_count": 10,
     "metadata": {},
     "output_type": "execute_result"
    }
   ],
   "source": [
    "main_df['info.match_type'].value_counts()"
   ]
  },
  {
   "cell_type": "code",
   "execution_count": 11,
   "metadata": {},
   "outputs": [
    {
     "data": {
      "text/plain": [
       "info.overs\n",
       "50    2422\n",
       "Name: count, dtype: int64"
      ]
     },
     "execution_count": 11,
     "metadata": {},
     "output_type": "execute_result"
    }
   ],
   "source": [
    "main_df['info.overs'].value_counts()"
   ]
  },
  {
   "cell_type": "code",
   "execution_count": 12,
   "metadata": {},
   "outputs": [],
   "source": [
    "main_df.drop(columns=['info.match_type','info.overs'],inplace=True)"
   ]
  },
  {
   "cell_type": "code",
   "execution_count": 15,
   "metadata": {},
   "outputs": [],
   "source": [
    "main_df = main_df[['innings', \n",
    "       'info.city', 'info.dates',\n",
    "        'info.outcome.winner', \n",
    "       'info.teams', \n",
    "       'info.venue', 'match_id',\n",
    "    ]]"
   ]
  },
  {
   "cell_type": "code",
   "execution_count": 16,
   "metadata": {},
   "outputs": [],
   "source": [
    "count = 0\n",
    "delivery_df = pd.DataFrame()\n",
    "for index, row in main_df.iterrows():\n",
    "    count+=1\n",
    "    ball_of_match = []\n",
    "    batsman = []\n",
    "    bowler = []\n",
    "    runs = []\n",
    "    player_of_dismissed = []\n",
    "    teams = []\n",
    "    batting_team = []\n",
    "    match_id = []\n",
    "    city = []\n",
    "    venue = []\n",
    "    for ball in row['innings'][0]['1st innings']['deliveries']:\n",
    "        for key in ball.keys():\n",
    "            match_id.append(count)\n",
    "            batting_team.append(row['innings'][0]['1st innings']['team'])\n",
    "            teams.append(row['info.teams'])\n",
    "            ball_of_match.append(key)\n",
    "            batsman.append(ball[key]['batsman'])\n",
    "            bowler.append(ball[key]['bowler'])\n",
    "            runs.append(ball[key]['runs']['total'])\n",
    "            city.append(row['info.city'])\n",
    "            venue.append(row['info.venue'])\n",
    "            try:\n",
    "                player_of_dismissed.append(ball[key]['wicket']['player_out'])\n",
    "            except:\n",
    "                player_of_dismissed.append('0')\n",
    "    temp_df = pd.DataFrame({\n",
    "            'match_id':match_id,\n",
    "            'teams':teams,\n",
    "            'batting_team':batting_team,\n",
    "            'ball':ball_of_match,\n",
    "            'batsman':batsman,\n",
    "            'bowler':bowler,\n",
    "            'runs':runs,\n",
    "            'player_dismissed':player_of_dismissed,\n",
    "            'city':city,\n",
    "            'venue':venue\n",
    "        })\n",
    "    main_df = pd.concat([temp_df,main_df],ignore_index=True)"
   ]
  },
  {
   "cell_type": "code",
   "execution_count": 17,
   "metadata": {},
   "outputs": [
    {
     "data": {
      "text/html": [
       "<div>\n",
       "<style scoped>\n",
       "    .dataframe tbody tr th:only-of-type {\n",
       "        vertical-align: middle;\n",
       "    }\n",
       "\n",
       "    .dataframe tbody tr th {\n",
       "        vertical-align: top;\n",
       "    }\n",
       "\n",
       "    .dataframe thead th {\n",
       "        text-align: right;\n",
       "    }\n",
       "</style>\n",
       "<table border=\"1\" class=\"dataframe\">\n",
       "  <thead>\n",
       "    <tr style=\"text-align: right;\">\n",
       "      <th></th>\n",
       "      <th>match_id</th>\n",
       "      <th>teams</th>\n",
       "      <th>batting_team</th>\n",
       "      <th>ball</th>\n",
       "      <th>batsman</th>\n",
       "      <th>bowler</th>\n",
       "      <th>runs</th>\n",
       "      <th>player_dismissed</th>\n",
       "      <th>city</th>\n",
       "      <th>venue</th>\n",
       "      <th>innings</th>\n",
       "      <th>info.city</th>\n",
       "      <th>info.dates</th>\n",
       "      <th>info.outcome.winner</th>\n",
       "      <th>info.teams</th>\n",
       "      <th>info.venue</th>\n",
       "    </tr>\n",
       "  </thead>\n",
       "  <tbody>\n",
       "    <tr>\n",
       "      <th>0</th>\n",
       "      <td>2422</td>\n",
       "      <td>[Australia, Pakistan]</td>\n",
       "      <td>Australia</td>\n",
       "      <td>0.1</td>\n",
       "      <td>DA Warner</td>\n",
       "      <td>Mohammad Amir</td>\n",
       "      <td>0.0</td>\n",
       "      <td>0</td>\n",
       "      <td>Brisbane</td>\n",
       "      <td>Brisbane Cricket Ground, Woolloongabba</td>\n",
       "      <td>NaN</td>\n",
       "      <td>NaN</td>\n",
       "      <td>NaN</td>\n",
       "      <td>NaN</td>\n",
       "      <td>NaN</td>\n",
       "      <td>NaN</td>\n",
       "    </tr>\n",
       "    <tr>\n",
       "      <th>1</th>\n",
       "      <td>2422</td>\n",
       "      <td>[Australia, Pakistan]</td>\n",
       "      <td>Australia</td>\n",
       "      <td>0.2</td>\n",
       "      <td>DA Warner</td>\n",
       "      <td>Mohammad Amir</td>\n",
       "      <td>0.0</td>\n",
       "      <td>0</td>\n",
       "      <td>Brisbane</td>\n",
       "      <td>Brisbane Cricket Ground, Woolloongabba</td>\n",
       "      <td>NaN</td>\n",
       "      <td>NaN</td>\n",
       "      <td>NaN</td>\n",
       "      <td>NaN</td>\n",
       "      <td>NaN</td>\n",
       "      <td>NaN</td>\n",
       "    </tr>\n",
       "    <tr>\n",
       "      <th>2</th>\n",
       "      <td>2422</td>\n",
       "      <td>[Australia, Pakistan]</td>\n",
       "      <td>Australia</td>\n",
       "      <td>0.3</td>\n",
       "      <td>DA Warner</td>\n",
       "      <td>Mohammad Amir</td>\n",
       "      <td>0.0</td>\n",
       "      <td>0</td>\n",
       "      <td>Brisbane</td>\n",
       "      <td>Brisbane Cricket Ground, Woolloongabba</td>\n",
       "      <td>NaN</td>\n",
       "      <td>NaN</td>\n",
       "      <td>NaN</td>\n",
       "      <td>NaN</td>\n",
       "      <td>NaN</td>\n",
       "      <td>NaN</td>\n",
       "    </tr>\n",
       "    <tr>\n",
       "      <th>3</th>\n",
       "      <td>2422</td>\n",
       "      <td>[Australia, Pakistan]</td>\n",
       "      <td>Australia</td>\n",
       "      <td>0.4</td>\n",
       "      <td>DA Warner</td>\n",
       "      <td>Mohammad Amir</td>\n",
       "      <td>0.0</td>\n",
       "      <td>0</td>\n",
       "      <td>Brisbane</td>\n",
       "      <td>Brisbane Cricket Ground, Woolloongabba</td>\n",
       "      <td>NaN</td>\n",
       "      <td>NaN</td>\n",
       "      <td>NaN</td>\n",
       "      <td>NaN</td>\n",
       "      <td>NaN</td>\n",
       "      <td>NaN</td>\n",
       "    </tr>\n",
       "    <tr>\n",
       "      <th>4</th>\n",
       "      <td>2422</td>\n",
       "      <td>[Australia, Pakistan]</td>\n",
       "      <td>Australia</td>\n",
       "      <td>0.5</td>\n",
       "      <td>DA Warner</td>\n",
       "      <td>Mohammad Amir</td>\n",
       "      <td>1.0</td>\n",
       "      <td>0</td>\n",
       "      <td>Brisbane</td>\n",
       "      <td>Brisbane Cricket Ground, Woolloongabba</td>\n",
       "      <td>NaN</td>\n",
       "      <td>NaN</td>\n",
       "      <td>NaN</td>\n",
       "      <td>NaN</td>\n",
       "      <td>NaN</td>\n",
       "      <td>NaN</td>\n",
       "    </tr>\n",
       "    <tr>\n",
       "      <th>...</th>\n",
       "      <td>...</td>\n",
       "      <td>...</td>\n",
       "      <td>...</td>\n",
       "      <td>...</td>\n",
       "      <td>...</td>\n",
       "      <td>...</td>\n",
       "      <td>...</td>\n",
       "      <td>...</td>\n",
       "      <td>...</td>\n",
       "      <td>...</td>\n",
       "      <td>...</td>\n",
       "      <td>...</td>\n",
       "      <td>...</td>\n",
       "      <td>...</td>\n",
       "      <td>...</td>\n",
       "      <td>...</td>\n",
       "    </tr>\n",
       "    <tr>\n",
       "      <th>702593</th>\n",
       "      <td>5</td>\n",
       "      <td>NaN</td>\n",
       "      <td>NaN</td>\n",
       "      <td>NaN</td>\n",
       "      <td>NaN</td>\n",
       "      <td>NaN</td>\n",
       "      <td>NaN</td>\n",
       "      <td>NaN</td>\n",
       "      <td>NaN</td>\n",
       "      <td>NaN</td>\n",
       "      <td>[{'1st innings': {'team': 'Australia', 'delive...</td>\n",
       "      <td>NaN</td>\n",
       "      <td>[2017-01-26]</td>\n",
       "      <td>Australia</td>\n",
       "      <td>[Australia, Pakistan]</td>\n",
       "      <td>Adelaide Oval</td>\n",
       "    </tr>\n",
       "    <tr>\n",
       "      <th>702594</th>\n",
       "      <td>4</td>\n",
       "      <td>NaN</td>\n",
       "      <td>NaN</td>\n",
       "      <td>NaN</td>\n",
       "      <td>NaN</td>\n",
       "      <td>NaN</td>\n",
       "      <td>NaN</td>\n",
       "      <td>NaN</td>\n",
       "      <td>NaN</td>\n",
       "      <td>NaN</td>\n",
       "      <td>[{'1st innings': {'team': 'Australia', 'delive...</td>\n",
       "      <td>NaN</td>\n",
       "      <td>[2017-01-22]</td>\n",
       "      <td>Australia</td>\n",
       "      <td>[Australia, Pakistan]</td>\n",
       "      <td>Sydney Cricket Ground</td>\n",
       "    </tr>\n",
       "    <tr>\n",
       "      <th>702595</th>\n",
       "      <td>3</td>\n",
       "      <td>NaN</td>\n",
       "      <td>NaN</td>\n",
       "      <td>NaN</td>\n",
       "      <td>NaN</td>\n",
       "      <td>NaN</td>\n",
       "      <td>NaN</td>\n",
       "      <td>NaN</td>\n",
       "      <td>NaN</td>\n",
       "      <td>NaN</td>\n",
       "      <td>[{'1st innings': {'team': 'Pakistan', 'deliver...</td>\n",
       "      <td>Perth</td>\n",
       "      <td>[2017-01-19]</td>\n",
       "      <td>Australia</td>\n",
       "      <td>[Australia, Pakistan]</td>\n",
       "      <td>Western Australia Cricket Association Ground</td>\n",
       "    </tr>\n",
       "    <tr>\n",
       "      <th>702596</th>\n",
       "      <td>2</td>\n",
       "      <td>NaN</td>\n",
       "      <td>NaN</td>\n",
       "      <td>NaN</td>\n",
       "      <td>NaN</td>\n",
       "      <td>NaN</td>\n",
       "      <td>NaN</td>\n",
       "      <td>NaN</td>\n",
       "      <td>NaN</td>\n",
       "      <td>NaN</td>\n",
       "      <td>[{'1st innings': {'team': 'Australia', 'delive...</td>\n",
       "      <td>NaN</td>\n",
       "      <td>[2017-01-15]</td>\n",
       "      <td>Pakistan</td>\n",
       "      <td>[Australia, Pakistan]</td>\n",
       "      <td>Melbourne Cricket Ground</td>\n",
       "    </tr>\n",
       "    <tr>\n",
       "      <th>702597</th>\n",
       "      <td>1</td>\n",
       "      <td>NaN</td>\n",
       "      <td>NaN</td>\n",
       "      <td>NaN</td>\n",
       "      <td>NaN</td>\n",
       "      <td>NaN</td>\n",
       "      <td>NaN</td>\n",
       "      <td>NaN</td>\n",
       "      <td>NaN</td>\n",
       "      <td>NaN</td>\n",
       "      <td>[{'1st innings': {'team': 'Australia', 'delive...</td>\n",
       "      <td>Brisbane</td>\n",
       "      <td>[2017-01-13]</td>\n",
       "      <td>Australia</td>\n",
       "      <td>[Australia, Pakistan]</td>\n",
       "      <td>Brisbane Cricket Ground, Woolloongabba</td>\n",
       "    </tr>\n",
       "  </tbody>\n",
       "</table>\n",
       "<p>702598 rows × 16 columns</p>\n",
       "</div>"
      ],
      "text/plain": [
       "        match_id                  teams batting_team  ball    batsman  \\\n",
       "0           2422  [Australia, Pakistan]    Australia   0.1  DA Warner   \n",
       "1           2422  [Australia, Pakistan]    Australia   0.2  DA Warner   \n",
       "2           2422  [Australia, Pakistan]    Australia   0.3  DA Warner   \n",
       "3           2422  [Australia, Pakistan]    Australia   0.4  DA Warner   \n",
       "4           2422  [Australia, Pakistan]    Australia   0.5  DA Warner   \n",
       "...          ...                    ...          ...   ...        ...   \n",
       "702593         5                    NaN          NaN   NaN        NaN   \n",
       "702594         4                    NaN          NaN   NaN        NaN   \n",
       "702595         3                    NaN          NaN   NaN        NaN   \n",
       "702596         2                    NaN          NaN   NaN        NaN   \n",
       "702597         1                    NaN          NaN   NaN        NaN   \n",
       "\n",
       "               bowler  runs player_dismissed      city  \\\n",
       "0       Mohammad Amir   0.0                0  Brisbane   \n",
       "1       Mohammad Amir   0.0                0  Brisbane   \n",
       "2       Mohammad Amir   0.0                0  Brisbane   \n",
       "3       Mohammad Amir   0.0                0  Brisbane   \n",
       "4       Mohammad Amir   1.0                0  Brisbane   \n",
       "...               ...   ...              ...       ...   \n",
       "702593            NaN   NaN              NaN       NaN   \n",
       "702594            NaN   NaN              NaN       NaN   \n",
       "702595            NaN   NaN              NaN       NaN   \n",
       "702596            NaN   NaN              NaN       NaN   \n",
       "702597            NaN   NaN              NaN       NaN   \n",
       "\n",
       "                                         venue  \\\n",
       "0       Brisbane Cricket Ground, Woolloongabba   \n",
       "1       Brisbane Cricket Ground, Woolloongabba   \n",
       "2       Brisbane Cricket Ground, Woolloongabba   \n",
       "3       Brisbane Cricket Ground, Woolloongabba   \n",
       "4       Brisbane Cricket Ground, Woolloongabba   \n",
       "...                                        ...   \n",
       "702593                                     NaN   \n",
       "702594                                     NaN   \n",
       "702595                                     NaN   \n",
       "702596                                     NaN   \n",
       "702597                                     NaN   \n",
       "\n",
       "                                                  innings info.city  \\\n",
       "0                                                     NaN       NaN   \n",
       "1                                                     NaN       NaN   \n",
       "2                                                     NaN       NaN   \n",
       "3                                                     NaN       NaN   \n",
       "4                                                     NaN       NaN   \n",
       "...                                                   ...       ...   \n",
       "702593  [{'1st innings': {'team': 'Australia', 'delive...       NaN   \n",
       "702594  [{'1st innings': {'team': 'Australia', 'delive...       NaN   \n",
       "702595  [{'1st innings': {'team': 'Pakistan', 'deliver...     Perth   \n",
       "702596  [{'1st innings': {'team': 'Australia', 'delive...       NaN   \n",
       "702597  [{'1st innings': {'team': 'Australia', 'delive...  Brisbane   \n",
       "\n",
       "          info.dates info.outcome.winner             info.teams  \\\n",
       "0                NaN                 NaN                    NaN   \n",
       "1                NaN                 NaN                    NaN   \n",
       "2                NaN                 NaN                    NaN   \n",
       "3                NaN                 NaN                    NaN   \n",
       "4                NaN                 NaN                    NaN   \n",
       "...              ...                 ...                    ...   \n",
       "702593  [2017-01-26]           Australia  [Australia, Pakistan]   \n",
       "702594  [2017-01-22]           Australia  [Australia, Pakistan]   \n",
       "702595  [2017-01-19]           Australia  [Australia, Pakistan]   \n",
       "702596  [2017-01-15]            Pakistan  [Australia, Pakistan]   \n",
       "702597  [2017-01-13]           Australia  [Australia, Pakistan]   \n",
       "\n",
       "                                          info.venue  \n",
       "0                                                NaN  \n",
       "1                                                NaN  \n",
       "2                                                NaN  \n",
       "3                                                NaN  \n",
       "4                                                NaN  \n",
       "...                                              ...  \n",
       "702593                                 Adelaide Oval  \n",
       "702594                         Sydney Cricket Ground  \n",
       "702595  Western Australia Cricket Association Ground  \n",
       "702596                      Melbourne Cricket Ground  \n",
       "702597        Brisbane Cricket Ground, Woolloongabba  \n",
       "\n",
       "[702598 rows x 16 columns]"
      ]
     },
     "execution_count": 17,
     "metadata": {},
     "output_type": "execute_result"
    }
   ],
   "source": [
    "main_df"
   ]
  },
  {
   "cell_type": "code",
   "execution_count": 19,
   "metadata": {},
   "outputs": [],
   "source": [
    "main_df.drop(columns=['innings','info.city','info.dates','info.outcome.winner','info.teams','info.venue'],inplace=True)"
   ]
  },
  {
   "cell_type": "code",
   "execution_count": 20,
   "metadata": {},
   "outputs": [],
   "source": [
    "main_df['city'] = main_df['city'].fillna(0)"
   ]
  },
  {
   "cell_type": "code",
   "execution_count": 21,
   "metadata": {},
   "outputs": [],
   "source": [
    "main_df = main_df.dropna()"
   ]
  },
  {
   "cell_type": "code",
   "execution_count": 22,
   "metadata": {},
   "outputs": [
    {
     "data": {
      "text/plain": [
       "match_id            0\n",
       "teams               0\n",
       "batting_team        0\n",
       "ball                0\n",
       "batsman             0\n",
       "bowler              0\n",
       "runs                0\n",
       "player_dismissed    0\n",
       "city                0\n",
       "venue               0\n",
       "dtype: int64"
      ]
     },
     "execution_count": 22,
     "metadata": {},
     "output_type": "execute_result"
    }
   ],
   "source": [
    "main_df.isnull().sum()"
   ]
  },
  {
   "cell_type": "code",
   "execution_count": 23,
   "metadata": {},
   "outputs": [],
   "source": [
    "bowling_team = []\n",
    "for index,row in main_df.iterrows():\n",
    "    for team in row['teams']:\n",
    "        if team != row['batting_team']:\n",
    "            bowling_team.append(team)"
   ]
  },
  {
   "cell_type": "code",
   "execution_count": 24,
   "metadata": {},
   "outputs": [
    {
     "name": "stderr",
     "output_type": "stream",
     "text": [
      "C:\\Users\\dhair\\AppData\\Local\\Temp\\ipykernel_32880\\3421552975.py:1: SettingWithCopyWarning: \n",
      "A value is trying to be set on a copy of a slice from a DataFrame.\n",
      "Try using .loc[row_indexer,col_indexer] = value instead\n",
      "\n",
      "See the caveats in the documentation: https://pandas.pydata.org/pandas-docs/stable/user_guide/indexing.html#returning-a-view-versus-a-copy\n",
      "  main_df['bowling_team'] = bowling_team\n"
     ]
    }
   ],
   "source": [
    "main_df['bowling_team'] = bowling_team"
   ]
  },
  {
   "cell_type": "code",
   "execution_count": 25,
   "metadata": {},
   "outputs": [],
   "source": [
    "teams = [\n",
    "    'Australia',\n",
    "    'India',\n",
    "    'Bangladesh',\n",
    "    'New Zealand',\n",
    "    'South Africa',\n",
    "    'England',\n",
    "    'West Indies',\n",
    "    'Afghanistan',\n",
    "    'Pakistan',\n",
    "    'Sri Lanka', \n",
    "    'Netherlands'  \n",
    "]"
   ]
  },
  {
   "cell_type": "code",
   "execution_count": 26,
   "metadata": {},
   "outputs": [],
   "source": [
    "main_df = main_df[main_df['batting_team'].isin(teams)]\n",
    "main_df = main_df[main_df['bowling_team'].isin(teams)]"
   ]
  },
  {
   "cell_type": "code",
   "execution_count": 27,
   "metadata": {},
   "outputs": [
    {
     "data": {
      "text/plain": [
       "(487744, 11)"
      ]
     },
     "execution_count": 27,
     "metadata": {},
     "output_type": "execute_result"
    }
   ],
   "source": [
    "main_df.shape"
   ]
  },
  {
   "cell_type": "code",
   "execution_count": 28,
   "metadata": {},
   "outputs": [],
   "source": [
    "final = main_df[['match_id','batting_team','bowling_team','ball','runs','player_dismissed','city','venue']]"
   ]
  },
  {
   "cell_type": "code",
   "execution_count": 29,
   "metadata": {},
   "outputs": [],
   "source": [
    "cities = np.where(final['city'] == 0, final['venue'].str.split().apply(lambda x:x[0]), final['city'])"
   ]
  },
  {
   "cell_type": "code",
   "execution_count": 30,
   "metadata": {},
   "outputs": [
    {
     "name": "stderr",
     "output_type": "stream",
     "text": [
      "C:\\Users\\dhair\\AppData\\Local\\Temp\\ipykernel_32880\\3422534025.py:1: SettingWithCopyWarning: \n",
      "A value is trying to be set on a copy of a slice from a DataFrame.\n",
      "Try using .loc[row_indexer,col_indexer] = value instead\n",
      "\n",
      "See the caveats in the documentation: https://pandas.pydata.org/pandas-docs/stable/user_guide/indexing.html#returning-a-view-versus-a-copy\n",
      "  final['city'] = cities\n"
     ]
    }
   ],
   "source": [
    "final['city'] = cities"
   ]
  },
  {
   "cell_type": "code",
   "execution_count": 31,
   "metadata": {},
   "outputs": [
    {
     "name": "stderr",
     "output_type": "stream",
     "text": [
      "C:\\Users\\dhair\\AppData\\Local\\Temp\\ipykernel_32880\\2320069556.py:1: SettingWithCopyWarning: \n",
      "A value is trying to be set on a copy of a slice from a DataFrame\n",
      "\n",
      "See the caveats in the documentation: https://pandas.pydata.org/pandas-docs/stable/user_guide/indexing.html#returning-a-view-versus-a-copy\n",
      "  final.drop(columns=['venue'],inplace=True)\n"
     ]
    }
   ],
   "source": [
    "final.drop(columns=['venue'],inplace=True)"
   ]
  },
  {
   "cell_type": "code",
   "execution_count": 32,
   "metadata": {},
   "outputs": [],
   "source": [
    "total_df = final.groupby('match_id').sum()['runs'].reset_index()\n",
    "final = final.merge(total_df,on='match_id')"
   ]
  },
  {
   "cell_type": "code",
   "execution_count": 33,
   "metadata": {},
   "outputs": [],
   "source": [
    "con = {'runs_x': int,'runs_y': int}\n",
    "final = final.astype(con)"
   ]
  },
  {
   "cell_type": "code",
   "execution_count": 40,
   "metadata": {},
   "outputs": [],
   "source": [
    "curscore = []\n",
    "mid = 2422\n",
    "sum = 0\n",
    "for ind,row in final.iterrows():\n",
    "    if(row['match_id'] == mid):\n",
    "      sum += row['runs_x']\n",
    "      curscore.append(sum)\n",
    "      continue\n",
    "    else:\n",
    "      mid -= 1\n",
    "      sum = row['runs_x']\n",
    "      curscore.append(sum)"
   ]
  },
  {
   "cell_type": "code",
   "execution_count": 41,
   "metadata": {},
   "outputs": [],
   "source": [
    "final['current_score'] = curscore"
   ]
  },
  {
   "cell_type": "code",
   "execution_count": 36,
   "metadata": {},
   "outputs": [],
   "source": [
    "final['over'] = final['ball'].apply(lambda x:str(x).split(\".\")[0])\n",
    "final['ball_no'] = final['ball'].apply(lambda x:str(x).split(\".\")[1])"
   ]
  },
  {
   "cell_type": "code",
   "execution_count": 37,
   "metadata": {},
   "outputs": [],
   "source": [
    "final['balls_bowled'] = (final['over'].astype('int')*6) + final['ball_no'].astype('int')"
   ]
  },
  {
   "cell_type": "code",
   "execution_count": 38,
   "metadata": {},
   "outputs": [],
   "source": [
    "final['crr'] = round((final['current_score']*6)/final['balls_bowled'],2)"
   ]
  },
  {
   "cell_type": "code",
   "execution_count": 39,
   "metadata": {},
   "outputs": [],
   "source": [
    "final['player_dismissed'] = final['player_dismissed'].apply(lambda x : 0 if x=='0' else 1)"
   ]
  },
  {
   "cell_type": "code",
   "execution_count": 42,
   "metadata": {},
   "outputs": [],
   "source": [
    "wicketsleft = []\n",
    "mid = 2422\n",
    "sum = 0\n",
    "for ind,row in final.iterrows():\n",
    "    if(row['match_id'] == mid):\n",
    "      sum += row['player_dismissed']\n",
    "      wicketsleft.append(sum)\n",
    "      continue\n",
    "    else:\n",
    "      mid -= 1\n",
    "      sum = row['player_dismissed']\n",
    "      wicketsleft.append(sum)"
   ]
  },
  {
   "cell_type": "code",
   "execution_count": 43,
   "metadata": {},
   "outputs": [],
   "source": [
    "final['wicketsleft'] = 10 - final['player_dismissed']"
   ]
  },
  {
   "cell_type": "code",
   "execution_count": 44,
   "metadata": {},
   "outputs": [],
   "source": [
    "final_df = final[['match_id','batting_team','bowling_team','runs_x','current_score','balls_bowled','wicketsleft','crr','city','runs_y']]\n"
   ]
  },
  {
   "cell_type": "code",
   "execution_count": 45,
   "metadata": {},
   "outputs": [
    {
     "name": "stderr",
     "output_type": "stream",
     "text": [
      "C:\\Users\\dhair\\AppData\\Local\\Temp\\ipykernel_32880\\3541939152.py:1: SettingWithCopyWarning: \n",
      "A value is trying to be set on a copy of a slice from a DataFrame.\n",
      "Try using .loc[row_indexer,col_indexer] = value instead\n",
      "\n",
      "See the caveats in the documentation: https://pandas.pydata.org/pandas-docs/stable/user_guide/indexing.html#returning-a-view-versus-a-copy\n",
      "  final_df['balls_left'] = 300 - final_df['balls_bowled']\n",
      "C:\\Users\\dhair\\AppData\\Local\\Temp\\ipykernel_32880\\3541939152.py:2: SettingWithCopyWarning: \n",
      "A value is trying to be set on a copy of a slice from a DataFrame.\n",
      "Try using .loc[row_indexer,col_indexer] = value instead\n",
      "\n",
      "See the caveats in the documentation: https://pandas.pydata.org/pandas-docs/stable/user_guide/indexing.html#returning-a-view-versus-a-copy\n",
      "  final_df['balls_left'] = final_df['balls_left'].apply(lambda x:0 if x<0 else x)\n"
     ]
    }
   ],
   "source": [
    "final_df['balls_left'] = 300 - final_df['balls_bowled']\n",
    "final_df['balls_left'] = final_df['balls_left'].apply(lambda x:0 if x<0 else x)"
   ]
  },
  {
   "cell_type": "code",
   "execution_count": 46,
   "metadata": {},
   "outputs": [
    {
     "name": "stderr",
     "output_type": "stream",
     "text": [
      "C:\\Users\\dhair\\AppData\\Local\\Temp\\ipykernel_32880\\1891013313.py:1: SettingWithCopyWarning: \n",
      "A value is trying to be set on a copy of a slice from a DataFrame.\n",
      "Try using .loc[row_indexer,col_indexer] = value instead\n",
      "\n",
      "See the caveats in the documentation: https://pandas.pydata.org/pandas-docs/stable/user_guide/indexing.html#returning-a-view-versus-a-copy\n",
      "  final_df['crr'] = round((final_df['current_score']*6)/final_df['balls_bowled'],2)\n"
     ]
    }
   ],
   "source": [
    "final_df['crr'] = round((final_df['current_score']*6)/final_df['balls_bowled'],2)"
   ]
  },
  {
   "cell_type": "code",
   "execution_count": 47,
   "metadata": {},
   "outputs": [
    {
     "name": "stderr",
     "output_type": "stream",
     "text": [
      "C:\\Users\\dhair\\AppData\\Local\\Temp\\ipykernel_32880\\2226683702.py:1: SettingWithCopyWarning: \n",
      "A value is trying to be set on a copy of a slice from a DataFrame\n",
      "\n",
      "See the caveats in the documentation: https://pandas.pydata.org/pandas-docs/stable/user_guide/indexing.html#returning-a-view-versus-a-copy\n",
      "  final_df.drop(columns=['balls_bowled'],inplace=True)\n"
     ]
    }
   ],
   "source": [
    "final_df.drop(columns=['balls_bowled'],inplace=True)"
   ]
  },
  {
   "cell_type": "code",
   "execution_count": 48,
   "metadata": {},
   "outputs": [],
   "source": [
    "groups = final_df.groupby('match_id')\n",
    "match_ids = final_df['match_id'].unique()\n",
    "last_five = []\n",
    "for id in match_ids:\n",
    "    sum = groups.get_group(id)['runs_x'].rolling(window=30, min_periods=1).sum()\n",
    "    last_five.extend(sum)"
   ]
  },
  {
   "cell_type": "code",
   "execution_count": 49,
   "metadata": {},
   "outputs": [
    {
     "name": "stderr",
     "output_type": "stream",
     "text": [
      "C:\\Users\\dhair\\AppData\\Local\\Temp\\ipykernel_32880\\920023651.py:1: SettingWithCopyWarning: \n",
      "A value is trying to be set on a copy of a slice from a DataFrame.\n",
      "Try using .loc[row_indexer,col_indexer] = value instead\n",
      "\n",
      "See the caveats in the documentation: https://pandas.pydata.org/pandas-docs/stable/user_guide/indexing.html#returning-a-view-versus-a-copy\n",
      "  final_df['last_n'] = last_five\n"
     ]
    }
   ],
   "source": [
    "final_df['last_n'] = last_five"
   ]
  },
  {
   "cell_type": "code",
   "execution_count": 50,
   "metadata": {},
   "outputs": [],
   "source": [
    "final_df = final_df.astype({'last_n': int})"
   ]
  },
  {
   "cell_type": "code",
   "execution_count": null,
   "metadata": {},
   "outputs": [],
   "source": [
    "final_df.to_csv('final.csv')"
   ]
  }
 ],
 "metadata": {
  "kernelspec": {
   "display_name": "Python 3",
   "language": "python",
   "name": "python3"
  },
  "language_info": {
   "codemirror_mode": {
    "name": "ipython",
    "version": 3
   },
   "file_extension": ".py",
   "mimetype": "text/x-python",
   "name": "python",
   "nbconvert_exporter": "python",
   "pygments_lexer": "ipython3",
   "version": "3.12.0"
  }
 },
 "nbformat": 4,
 "nbformat_minor": 2
}
